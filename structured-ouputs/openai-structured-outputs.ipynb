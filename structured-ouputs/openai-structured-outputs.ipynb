{
 "cells": [
  {
   "cell_type": "code",
   "execution_count": 5,
   "metadata": {},
   "outputs": [],
   "source": [
    "# https://openai.com/index/introducing-structured-outputs-in-the-api/\n",
    "# https://platform.openai.com/docs/guides/structured-outputs/introduction\n",
    "# "
   ]
  },
  {
   "cell_type": "code",
   "execution_count": 6,
   "metadata": {},
   "outputs": [],
   "source": [
    "# %pip install --upgrade openai\n",
    "# %pip install python-dotenv"
   ]
  },
  {
   "cell_type": "code",
   "execution_count": 4,
   "metadata": {},
   "outputs": [
    {
     "data": {
      "text/plain": [
       "True"
      ]
     },
     "execution_count": 4,
     "metadata": {},
     "output_type": "execute_result"
    }
   ],
   "source": [
    "from dotenv import load_dotenv\n",
    "load_dotenv()"
   ]
  },
  {
   "cell_type": "code",
   "execution_count": 7,
   "metadata": {},
   "outputs": [],
   "source": [
    "from pydantic import BaseModel\n",
    "from openai import OpenAI\n",
    "\n",
    "client = OpenAI()\n",
    "\n",
    "class CalendarEvent(BaseModel):\n",
    "    name: str\n",
    "    date: str\n",
    "    participants: list[str]\n",
    "\n",
    "completion = client.beta.chat.completions.parse(\n",
    "    model=\"gpt-4o-2024-08-06\",\n",
    "    messages=[\n",
    "        {\"role\": \"system\", \"content\": \"Extract the event information.\"},\n",
    "        {\"role\": \"user\", \"content\": \"Alice and Bob are going to a science fair on Friday.\"},\n",
    "    ],\n",
    "    response_format=CalendarEvent,\n",
    ")\n",
    "\n",
    "event = completion.choices[0].message.parsed"
   ]
  },
  {
   "cell_type": "code",
   "execution_count": 18,
   "metadata": {},
   "outputs": [
    {
     "name": "stdout",
     "output_type": "stream",
     "text": [
      "{\n",
      "    \"name\": \"Science Fair\",\n",
      "    \"date\": \"Friday\",\n",
      "    \"participants\": [\n",
      "        \"Alice\",\n",
      "        \"Bob\"\n",
      "    ]\n",
      "}\n"
     ]
    }
   ],
   "source": [
    "import json\n",
    "\n",
    "# Convertimos la instancia a un diccionario\n",
    "event_dict = event.dict()\n",
    "\n",
    "# Convertimos el diccionario a una cadena JSON\n",
    "json_string = json.dumps(event_dict, indent=4)\n",
    "\n",
    "# Imprimimos el JSON en formato de string\n",
    "print(json_string)"
   ]
  },
  {
   "cell_type": "markdown",
   "metadata": {},
   "source": [
    "JSON is one of the most widely used formats in the world for applications to exchange data.\n",
    "\n",
    "Structured Outputs is a feature that ensures the model will always generate responses that adhere to your supplied JSON Schema, so you don't need to worry about the model omitting a required key, or hallucinating an invalid enum value.\n",
    "\n",
    "Some benefits of Structed Outputs include:\n",
    "\n",
    "1. Reliable type-safety: No need to validate or retry incorrectly formatted responses\n",
    "2. Explicit refusals: Safety-based model refusals are now programmatically detectable\n",
    "3. Simpler prompting: No need for strongly worded prompts to achieve consistent formatting"
   ]
  },
  {
   "cell_type": "markdown",
   "metadata": {},
   "source": [
    "Algunos ejemplos más:"
   ]
  },
  {
   "cell_type": "markdown",
   "metadata": {},
   "source": [
    "### Chain of thought\n",
    "You can ask the model to output an answer in a structured, step-by-step way, to guide the user through the solution."
   ]
  },
  {
   "cell_type": "code",
   "execution_count": 29,
   "metadata": {},
   "outputs": [],
   "source": [
    "from pydantic import BaseModel\n",
    "from openai import OpenAI\n",
    "\n",
    "client = OpenAI()\n",
    "\n",
    "class Step(BaseModel):\n",
    "    explanation: str\n",
    "    output: str\n",
    "\n",
    "class MathReasoning(BaseModel):\n",
    "    steps: list[Step]\n",
    "    final_answer: str\n",
    "\n",
    "completion = client.beta.chat.completions.parse(\n",
    "    model=\"gpt-4o-2024-08-06\",\n",
    "    messages=[\n",
    "        {\"role\": \"system\", \"content\": \"You are a helpful math tutor. Guide the user through the solution step by step.\"},\n",
    "        {\"role\": \"user\", \"content\": \"how can I solve 8x + 7 = -23\"}\n",
    "    ],\n",
    "    response_format=MathReasoning,\n",
    ")\n",
    "\n",
    "math_reasoning = completion.choices[0].message.parsed"
   ]
  },
  {
   "cell_type": "code",
   "execution_count": 30,
   "metadata": {},
   "outputs": [
    {
     "name": "stdout",
     "output_type": "stream",
     "text": [
      "{\n",
      "    \"steps\": [\n",
      "        {\n",
      "            \"explanation\": \"To solve the equation 8x + 7 = -23, we need to isolate the variable x on one side of the equation. The first step is to eliminate the constant term from the left side. We can do this by subtracting 7 from both sides of the equation.\",\n",
      "            \"output\": \"8x + 7 - 7 = -23 - 7\"\n",
      "        },\n",
      "        {\n",
      "            \"explanation\": \"Subtracting 7 from both sides simplifies the equation. On the left side, 7 - 7 equals 0, so the equation becomes 8x = -30.\",\n",
      "            \"output\": \"8x = -30\"\n",
      "        },\n",
      "        {\n",
      "            \"explanation\": \"Now, to solve for x, we need to get x by itself. Since x is currently multiplied by 8, we can divide both sides of the equation by 8 to isolate x.\",\n",
      "            \"output\": \"8x / 8 = -30 / 8\"\n",
      "        },\n",
      "        {\n",
      "            \"explanation\": \"Dividing both sides of the equation by 8 simplifies to x = -30/8. We can simplify the fraction by dividing the numerator and the denominator by their greatest common divisor, which is 2.\",\n",
      "            \"output\": \"x = -15/4\"\n",
      "        },\n",
      "        {\n",
      "            \"explanation\": \"The fraction -15/4 cannot be simplified further, so x = -15/4 is the final solution to the equation.\",\n",
      "            \"output\": \"x = -15/4\"\n",
      "        }\n",
      "    ],\n",
      "    \"final_answer\": \"x = -15/4\"\n",
      "}\n"
     ]
    }
   ],
   "source": [
    "import json\n",
    "\n",
    "math_reasoning_dict = math_reasoning.dict()\n",
    "json_string = json.dumps(math_reasoning_dict, indent=4)\n",
    "print(json_string)"
   ]
  },
  {
   "cell_type": "code",
   "execution_count": 31,
   "metadata": {},
   "outputs": [
    {
     "name": "stdout",
     "output_type": "stream",
     "text": [
      "steps=[Step(explanation='To solve the equation 8x + 7 = -23, we need to isolate the variable x on one side of the equation. The first step is to eliminate the constant term from the left side. We can do this by subtracting 7 from both sides of the equation.', output='8x + 7 - 7 = -23 - 7'), Step(explanation='Subtracting 7 from both sides simplifies the equation. On the left side, 7 - 7 equals 0, so the equation becomes 8x = -30.', output='8x = -30'), Step(explanation='Now, to solve for x, we need to get x by itself. Since x is currently multiplied by 8, we can divide both sides of the equation by 8 to isolate x.', output='8x / 8 = -30 / 8'), Step(explanation='Dividing both sides of the equation by 8 simplifies to x = -30/8. We can simplify the fraction by dividing the numerator and the denominator by their greatest common divisor, which is 2.', output='x = -15/4'), Step(explanation='The fraction -15/4 cannot be simplified further, so x = -15/4 is the final solution to the equation.', output='x = -15/4')] final_answer='x = -15/4'\n"
     ]
    }
   ],
   "source": [
    "math_response = completion.choices[0].message\n",
    "if math_response.refusal:\n",
    "    # handle refusal\n",
    "    print(math_response.refusal)\n",
    "else:\n",
    "    print(math_response.parsed)"
   ]
  },
  {
   "cell_type": "code",
   "execution_count": 32,
   "metadata": {},
   "outputs": [
    {
     "name": "stdout",
     "output_type": "stream",
     "text": [
      "[Step(explanation='To solve the equation 8x + 7 = -23, we need to isolate the variable x on one side of the equation. The first step is to eliminate the constant term from the left side. We can do this by subtracting 7 from both sides of the equation.', output='8x + 7 - 7 = -23 - 7'), Step(explanation='Subtracting 7 from both sides simplifies the equation. On the left side, 7 - 7 equals 0, so the equation becomes 8x = -30.', output='8x = -30'), Step(explanation='Now, to solve for x, we need to get x by itself. Since x is currently multiplied by 8, we can divide both sides of the equation by 8 to isolate x.', output='8x / 8 = -30 / 8'), Step(explanation='Dividing both sides of the equation by 8 simplifies to x = -30/8. We can simplify the fraction by dividing the numerator and the denominator by their greatest common divisor, which is 2.', output='x = -15/4'), Step(explanation='The fraction -15/4 cannot be simplified further, so x = -15/4 is the final solution to the equation.', output='x = -15/4')]\n",
      "x = -15/4\n"
     ]
    }
   ],
   "source": [
    "math_response = completion.choices[0].message.parsed\n",
    "print(math_response.steps)\n",
    "print(math_response.final_answer)"
   ]
  },
  {
   "cell_type": "markdown",
   "metadata": {},
   "source": [
    "### Structured data extraction\n",
    "You can define structured fields to extract from unstructured input data, such as reasearch papers."
   ]
  },
  {
   "cell_type": "code",
   "execution_count": 21,
   "metadata": {},
   "outputs": [],
   "source": [
    "from pydantic import BaseModel\n",
    "from openai import OpenAI\n",
    "\n",
    "client = OpenAI()\n",
    "\n",
    "class ResearchPaperExtraction(BaseModel):\n",
    "    title: str\n",
    "    authors: list[str]\n",
    "    abstract: str\n",
    "    keywords: list[str]\n",
    "\n",
    "completion = client.beta.chat.completions.parse(\n",
    "    model=\"gpt-4o-2024-08-06\",\n",
    "    messages=[\n",
    "        {\"role\": \"system\", \"content\": \"You are an expert at structured data extraction. You will be given unstructured text from a research paper and should convert it into the given structure.\"},\n",
    "        {\"role\": \"user\", \"content\": \"...\"}\n",
    "    ],\n",
    "    response_format=ResearchPaperExtraction,\n",
    ")\n",
    "\n",
    "research_paper = completion.choices[0].message.parsed"
   ]
  },
  {
   "cell_type": "code",
   "execution_count": 23,
   "metadata": {},
   "outputs": [
    {
     "name": "stdout",
     "output_type": "stream",
     "text": [
      "{\n",
      "    \"title\": \"The Impact of Quantum Computing on Artificial Intelligence\",\n",
      "    \"authors\": [\n",
      "        \"Jane Doe\",\n",
      "        \"John Smith\"\n",
      "    ],\n",
      "    \"abstract\": \"Quantum computing promises to revolutionize artificial intelligence by enhancing computational speed and efficiency. This paper explores the intersection of these two cutting-edge fields, outlining how quantum algorithms can optimize AI processes and presenting recent research findings in quantum-enhanced machine learning. We also discuss the potential challenges and ethical considerations surrounding the integration of quantum technologies into AI systems.\",\n",
      "    \"keywords\": [\n",
      "        \"Quantum Computing\",\n",
      "        \"Artificial Intelligence\",\n",
      "        \"Machine Learning\",\n",
      "        \"Quantum Algorithms\",\n",
      "        \"Ethics\"\n",
      "    ]\n",
      "}\n"
     ]
    }
   ],
   "source": [
    "import json\n",
    "\n",
    "research_paper_dict = research_paper.dict()\n",
    "json_string = json.dumps(research_paper_dict, indent=4)\n",
    "print(json_string)"
   ]
  },
  {
   "cell_type": "markdown",
   "metadata": {},
   "source": [
    "### UI Generation\n",
    "You can generate valid HTML by representing it as recursive data structures with constraints, like enums."
   ]
  },
  {
   "cell_type": "code",
   "execution_count": 24,
   "metadata": {},
   "outputs": [
    {
     "name": "stdout",
     "output_type": "stream",
     "text": [
      "ui=UI(type=<UIType.form: 'form'>, label='User Profile Form', children=[UI(type=<UIType.field: 'field'>, label='Full Name', children=[], attributes=[Attribute(name='type', value='text'), Attribute(name='placeholder', value='Enter your full name'), Attribute(name='required', value='true')]), UI(type=<UIType.field: 'field'>, label='Email Address', children=[], attributes=[Attribute(name='type', value='email'), Attribute(name='placeholder', value='Enter your email'), Attribute(name='required', value='true')]), UI(type=<UIType.field: 'field'>, label='Username', children=[], attributes=[Attribute(name='type', value='text'), Attribute(name='placeholder', value='Choose a username'), Attribute(name='required', value='true')]), UI(type=<UIType.field: 'field'>, label='Password', children=[], attributes=[Attribute(name='type', value='password'), Attribute(name='placeholder', value='Create a password'), Attribute(name='required', value='true')]), UI(type=<UIType.field: 'field'>, label='Date of Birth', children=[], attributes=[Attribute(name='type', value='date'), Attribute(name='required', value='true')]), UI(type=<UIType.field: 'field'>, label='Profile Picture', children=[], attributes=[Attribute(name='type', value='file'), Attribute(name='accept', value='image/*')]), UI(type=<UIType.button: 'button'>, label='Submit', children=[], attributes=[Attribute(name='type', value='submit')])], attributes=[])\n"
     ]
    }
   ],
   "source": [
    "from enum import Enum\n",
    "from typing import List\n",
    "from pydantic import BaseModel\n",
    "from openai import OpenAI\n",
    "\n",
    "client = OpenAI()\n",
    "\n",
    "class UIType(str, Enum):\n",
    "    div = \"div\"\n",
    "    button = \"button\"\n",
    "    header = \"header\"\n",
    "    section = \"section\"\n",
    "    field = \"field\"\n",
    "    form = \"form\"\n",
    "\n",
    "class Attribute(BaseModel):\n",
    "    name: str\n",
    "    value: str\n",
    "\n",
    "class UI(BaseModel):\n",
    "    type: UIType\n",
    "    label: str\n",
    "    children: List[\"UI\"] \n",
    "    attributes: List[Attribute]\n",
    "\n",
    "UI.model_rebuild() # This is required to enable recursive types\n",
    "\n",
    "class Response(BaseModel):\n",
    "    ui: UI\n",
    "\n",
    "completion = client.beta.chat.completions.parse(\n",
    "    model=\"gpt-4o-2024-08-06\",\n",
    "    messages=[\n",
    "        {\"role\": \"system\", \"content\": \"You are a UI generator AI. Convert the user input into a UI.\"},\n",
    "        {\"role\": \"user\", \"content\": \"Make a User Profile Form\"}\n",
    "    ],\n",
    "    response_format=Response,\n",
    ")\n",
    "\n",
    "ui = completion.choices[0].message.parsed"
   ]
  },
  {
   "cell_type": "code",
   "execution_count": 25,
   "metadata": {},
   "outputs": [
    {
     "name": "stdout",
     "output_type": "stream",
     "text": [
      "{\n",
      "    \"ui\": {\n",
      "        \"type\": \"form\",\n",
      "        \"label\": \"User Profile Form\",\n",
      "        \"children\": [\n",
      "            {\n",
      "                \"type\": \"field\",\n",
      "                \"label\": \"Full Name\",\n",
      "                \"children\": [],\n",
      "                \"attributes\": [\n",
      "                    {\n",
      "                        \"name\": \"type\",\n",
      "                        \"value\": \"text\"\n",
      "                    },\n",
      "                    {\n",
      "                        \"name\": \"placeholder\",\n",
      "                        \"value\": \"Enter your full name\"\n",
      "                    },\n",
      "                    {\n",
      "                        \"name\": \"required\",\n",
      "                        \"value\": \"true\"\n",
      "                    }\n",
      "                ]\n",
      "            },\n",
      "            {\n",
      "                \"type\": \"field\",\n",
      "                \"label\": \"Email Address\",\n",
      "                \"children\": [],\n",
      "                \"attributes\": [\n",
      "                    {\n",
      "                        \"name\": \"type\",\n",
      "                        \"value\": \"email\"\n",
      "                    },\n",
      "                    {\n",
      "                        \"name\": \"placeholder\",\n",
      "                        \"value\": \"Enter your email\"\n",
      "                    },\n",
      "                    {\n",
      "                        \"name\": \"required\",\n",
      "                        \"value\": \"true\"\n",
      "                    }\n",
      "                ]\n",
      "            },\n",
      "            {\n",
      "                \"type\": \"field\",\n",
      "                \"label\": \"Username\",\n",
      "                \"children\": [],\n",
      "                \"attributes\": [\n",
      "                    {\n",
      "                        \"name\": \"type\",\n",
      "                        \"value\": \"text\"\n",
      "                    },\n",
      "                    {\n",
      "                        \"name\": \"placeholder\",\n",
      "                        \"value\": \"Choose a username\"\n",
      "                    },\n",
      "                    {\n",
      "                        \"name\": \"required\",\n",
      "                        \"value\": \"true\"\n",
      "                    }\n",
      "                ]\n",
      "            },\n",
      "            {\n",
      "                \"type\": \"field\",\n",
      "                \"label\": \"Password\",\n",
      "                \"children\": [],\n",
      "                \"attributes\": [\n",
      "                    {\n",
      "                        \"name\": \"type\",\n",
      "                        \"value\": \"password\"\n",
      "                    },\n",
      "                    {\n",
      "                        \"name\": \"placeholder\",\n",
      "                        \"value\": \"Create a password\"\n",
      "                    },\n",
      "                    {\n",
      "                        \"name\": \"required\",\n",
      "                        \"value\": \"true\"\n",
      "                    }\n",
      "                ]\n",
      "            },\n",
      "            {\n",
      "                \"type\": \"field\",\n",
      "                \"label\": \"Date of Birth\",\n",
      "                \"children\": [],\n",
      "                \"attributes\": [\n",
      "                    {\n",
      "                        \"name\": \"type\",\n",
      "                        \"value\": \"date\"\n",
      "                    },\n",
      "                    {\n",
      "                        \"name\": \"required\",\n",
      "                        \"value\": \"true\"\n",
      "                    }\n",
      "                ]\n",
      "            },\n",
      "            {\n",
      "                \"type\": \"field\",\n",
      "                \"label\": \"Profile Picture\",\n",
      "                \"children\": [],\n",
      "                \"attributes\": [\n",
      "                    {\n",
      "                        \"name\": \"type\",\n",
      "                        \"value\": \"file\"\n",
      "                    },\n",
      "                    {\n",
      "                        \"name\": \"accept\",\n",
      "                        \"value\": \"image/*\"\n",
      "                    }\n",
      "                ]\n",
      "            },\n",
      "            {\n",
      "                \"type\": \"button\",\n",
      "                \"label\": \"Submit\",\n",
      "                \"children\": [],\n",
      "                \"attributes\": [\n",
      "                    {\n",
      "                        \"name\": \"type\",\n",
      "                        \"value\": \"submit\"\n",
      "                    }\n",
      "                ]\n",
      "            }\n",
      "        ],\n",
      "        \"attributes\": []\n",
      "    }\n",
      "}\n"
     ]
    }
   ],
   "source": [
    "import json\n",
    "\n",
    "ui_dict = ui.dict()\n",
    "json_string = json.dumps(ui_dict, indent=4)\n",
    "print(json_string)"
   ]
  },
  {
   "cell_type": "markdown",
   "metadata": {},
   "source": [
    "### Moderation\n",
    "You can classify inputs on multiple categories, which is a common way of doing moderation."
   ]
  },
  {
   "cell_type": "code",
   "execution_count": 26,
   "metadata": {},
   "outputs": [],
   "source": [
    "from enum import Enum\n",
    "from typing import Optional\n",
    "from pydantic import BaseModel\n",
    "from openai import OpenAI\n",
    "\n",
    "client = OpenAI()\n",
    "\n",
    "class Category(str, Enum):\n",
    "    violence = \"violence\"\n",
    "    sexual = \"sexual\"\n",
    "    self_harm = \"self_harm\"\n",
    "\n",
    "class ContentCompliance(BaseModel):\n",
    "    is_violating: bool\n",
    "    category: Optional[Category]\n",
    "    explanation_if_violating: Optional[str]\n",
    "\n",
    "completion = client.beta.chat.completions.parse(\n",
    "    model=\"gpt-4o-2024-08-06\",\n",
    "    messages=[\n",
    "        {\"role\": \"system\", \"content\": \"Determine if the user input violates specific guidelines and explain if they do.\"},\n",
    "        {\"role\": \"user\", \"content\": \"How do I prepare for a job interview?\"}\n",
    "    ],\n",
    "    response_format=ContentCompliance,\n",
    ")\n",
    "\n",
    "compliance = completion.choices[0].message.parsed"
   ]
  },
  {
   "cell_type": "code",
   "execution_count": 27,
   "metadata": {},
   "outputs": [
    {
     "name": "stdout",
     "output_type": "stream",
     "text": [
      "{\n",
      "    \"is_violating\": false,\n",
      "    \"category\": null,\n",
      "    \"explanation_if_violating\": null\n",
      "}\n"
     ]
    }
   ],
   "source": [
    "import json\n",
    "\n",
    "compliance_dict = compliance.dict()\n",
    "json_string = json.dumps(compliance_dict, indent=4)\n",
    "print(json_string)"
   ]
  }
 ],
 "metadata": {
  "kernelspec": {
   "display_name": "medium",
   "language": "python",
   "name": "python3"
  },
  "language_info": {
   "codemirror_mode": {
    "name": "ipython",
    "version": 3
   },
   "file_extension": ".py",
   "mimetype": "text/x-python",
   "name": "python",
   "nbconvert_exporter": "python",
   "pygments_lexer": "ipython3",
   "version": "3.9.19"
  }
 },
 "nbformat": 4,
 "nbformat_minor": 2
}
