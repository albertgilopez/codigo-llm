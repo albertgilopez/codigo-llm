{
 "cells": [
  {
   "cell_type": "code",
   "execution_count": 1,
   "metadata": {},
   "outputs": [],
   "source": [
    "# https://openai.com/index/introducing-structured-outputs-in-the-api/\n",
    "# https://platform.openai.com/docs/guides/structured-outputs/introduction\n",
    "# https://platform.openai.com/docs/guides/function-calling\n",
    "\n",
    "# https://cookbook.openai.com/examples/structured_outputs_intro\n",
    "# https://cookbook.openai.com/examples/structured_outputs_multi_agent"
   ]
  },
  {
   "cell_type": "markdown",
   "metadata": {},
   "source": [
    "# Guía Didáctica: Sistema Multi-Agente con Structured Outputs\n",
    "En esta guía, exploraremos cómo construir un sistema multi-agente utilizando la característica de Structured Outputs de OpenAI. Implementaremos un sistema que procesa datos, realiza análisis estadísticos y crea visualizaciones.\n"
   ]
  },
  {
   "cell_type": "markdown",
   "metadata": {},
   "source": [
    "### Why build a Multi-Agent System?\n",
    "When using function calling, if the number of functions (or tools) increases, the performance may suffer.\n",
    "\n",
    "To mitigate this, we can logically group the tools together and have specialized \"agents\" that are able to solve specific tasks or sub-tasks, which will increase the overall system performance."
   ]
  },
  {
   "cell_type": "code",
   "execution_count": 2,
   "metadata": {},
   "outputs": [
    {
     "data": {
      "text/plain": [
       "True"
      ]
     },
     "execution_count": 2,
     "metadata": {},
     "output_type": "execute_result"
    }
   ],
   "source": [
    "from dotenv import load_dotenv\n",
    "load_dotenv()"
   ]
  },
  {
   "cell_type": "markdown",
   "metadata": {},
   "source": [
    "### 1. Configuración del Entorno\n",
    "Primero, importamos las bibliotecas necesarias y configuramos el cliente de OpenAI."
   ]
  },
  {
   "cell_type": "code",
   "execution_count": 12,
   "metadata": {},
   "outputs": [],
   "source": [
    "from openai import OpenAI\n",
    "from IPython.display import Image\n",
    "import json\n",
    "import pandas as pd\n",
    "import matplotlib.pyplot as plt\n",
    "from io import StringIO\n",
    "import numpy as np"
   ]
  },
  {
   "cell_type": "code",
   "execution_count": 13,
   "metadata": {},
   "outputs": [],
   "source": [
    "client = OpenAI()\n",
    "MODEL = \"gpt-4o-2024-08-06\""
   ]
  },
  {
   "cell_type": "markdown",
   "metadata": {},
   "source": [
    "### 2. Definición de Modelos Pydantic\n",
    "Structured Outputs utiliza schemas JSON para garantizar que las respuestas del modelo se ajusten a una estructura específica. En Python, usamos Pydantic para definir estos schemas de una manera más pythonica."
   ]
  },
  {
   "cell_type": "code",
   "execution_count": 15,
   "metadata": {},
   "outputs": [],
   "source": [
    "class SendQueryToAgents(BaseModel):\n",
    "    agents: List[str] = Field(..., description=\"An array of agent names to send the query to.\")\n",
    "    query: str = Field(..., description=\"The user query to send.\")\n",
    "\n",
    "class CleanedData(BaseModel):\n",
    "    data: str = Field(..., description=\"The cleaned dataset in CSV format.\")\n",
    "\n",
    "class StatisticalAnalysis(BaseModel):\n",
    "    summary: str = Field(..., description=\"A summary of the statistical analysis.\")\n",
    "    mean: float = Field(..., description=\"The mean value of the data.\")\n",
    "    median: float = Field(..., description=\"The median value of the data.\")\n",
    "    std_dev: float = Field(..., description=\"The standard deviation of the data.\")\n",
    "\n",
    "class DataPoint(BaseModel):\n",
    "    x: float\n",
    "    y: float\n",
    "\n",
    "class LineChartData(BaseModel):\n",
    "    x_label: str = Field(..., description=\"Label for the x-axis.\")\n",
    "    y_label: str = Field(..., description=\"Label for the y-axis.\")\n",
    "    data_points: List[DataPoint] = Field(..., description=\"List of data points for the line chart.\")"
   ]
  },
  {
   "cell_type": "markdown",
   "metadata": {},
   "source": [
    "Cada clase define la estructura que esperamos recibir del modelo de lenguaje. El uso de Field nos permite añadir descripciones, que se convierten en parte del schema JSON.\n"
   ]
  },
  {
   "cell_type": "markdown",
   "metadata": {},
   "source": [
    "### 3. Definición de Prompts del Sistema\n",
    "Definimos prompts para cada agente en nuestro sistema:\n"
   ]
  },
  {
   "cell_type": "markdown",
   "metadata": {},
   "source": [
    "#### Agents set up\n",
    "The use case we will tackle is a data analysis task.\n",
    "\n",
    "Let's first set up our 4-agents system:\n",
    "\n",
    "- Triaging agent: Decides which agent(s) to call\n",
    "- Data pre-processing Agent: Prepares data for analysis - for example by cleaning it up\n",
    "- Data Analysis Agent: Performs analysis on the data\n",
    "- Data Visualization Agent: Visualizes the output of the analysis to extract insights\n",
    "\n",
    "We will start by defining the system prompts for each of these agents."
   ]
  },
  {
   "cell_type": "code",
   "execution_count": 16,
   "metadata": {},
   "outputs": [],
   "source": [
    "triaging_system_prompt = \"\"\"You are a Triaging Agent. Your role is to assess the user's query and route it to the relevant agents. The agents available are:\n",
    "- Data Processing Agent: Cleans, transforms, and aggregates data.\n",
    "- Analysis Agent: Performs statistical, correlation, and regression analysis.\n",
    "- Visualization Agent: Creates bar charts, line charts, and pie charts.\n",
    "\n",
    "Use the send_query_to_agents tool to forward the user's query to the relevant agents. Also, use the speak_to_user tool to get more information from the user if needed.\"\"\"\n",
    "\n",
    "processing_system_prompt = \"\"\"You are a Data Processing Agent. Your role is to clean, transform, and aggregate data using the following tools:\n",
    "- clean_data\n",
    "- transform_data\n",
    "- aggregate_data\"\"\"\n",
    "\n",
    "analysis_system_prompt = \"\"\"You are an Analysis Agent. Your role is to perform statistical, correlation, and regression analysis using the following tools:\n",
    "- stat_analysis\n",
    "- correlation_analysis\n",
    "- regression_analysis\"\"\"\n",
    "\n",
    "visualization_system_prompt = \"\"\"You are a Visualization Agent. Your role is to create bar charts, line charts, and pie charts using the following tools:\n",
    "- create_bar_chart\n",
    "- create_line_chart\n",
    "- create_pie_chart\"\"\""
   ]
  },
  {
   "cell_type": "markdown",
   "metadata": {},
   "source": [
    "Estos prompts guían el comportamiento de cada agente en el sistema.\n"
   ]
  },
  {
   "cell_type": "markdown",
   "metadata": {},
   "source": [
    "### 4. Funciones de Ejecución de Herramientas\n"
   ]
  },
  {
   "cell_type": "markdown",
   "metadata": {},
   "source": [
    "We will then define the tools for each agent.\n",
    "\n",
    "Apart from the triaging agent, each agent will be equipped with tools specific to their role:"
   ]
  },
  {
   "cell_type": "code",
   "execution_count": 17,
   "metadata": {},
   "outputs": [],
   "source": [
    "def clean_data(data: str) -> pd.DataFrame:\n",
    "    data_io = StringIO(data)\n",
    "    df = pd.read_csv(data_io)\n",
    "    df_cleaned = df.drop_duplicates().dropna()\n",
    "    return df_cleaned\n",
    "\n",
    "def perform_statistical_analysis(data: str) -> dict:\n",
    "    df = pd.read_csv(StringIO(data))\n",
    "    return {\n",
    "        \"mean\": df.mean().to_dict(),\n",
    "        \"median\": df.median().to_dict(),\n",
    "        \"std_dev\": df.std().to_dict()\n",
    "    }\n",
    "\n",
    "def create_line_chart(data: LineChartData):\n",
    "    x = [point.x for point in data.data_points]\n",
    "    y = [point.y for point in data.data_points]\n",
    "    plt.figure(figsize=(10, 6))\n",
    "    plt.plot(x, y, 'o-')\n",
    "    plt.xlabel(data.x_label)\n",
    "    plt.ylabel(data.y_label)\n",
    "    plt.title(f'{data.y_label} vs {data.x_label}')\n",
    "    plt.grid(True)\n",
    "    plt.show()"
   ]
  },
  {
   "cell_type": "markdown",
   "metadata": {},
   "source": [
    "Estas funciones implementan la lógica real detrás de las tareas que nuestros agentes solicitan.\n"
   ]
  },
  {
   "cell_type": "markdown",
   "metadata": {},
   "source": [
    "### 5. Funciones de Manejo de Agentes\n",
    "Ahora, definimos funciones para manejar cada agente:\n"
   ]
  },
  {
   "cell_type": "code",
   "execution_count": 18,
   "metadata": {},
   "outputs": [],
   "source": [
    "def handle_data_processing_agent(query: str) -> CleanedData:\n",
    "    completion = client.beta.chat.completions.parse(\n",
    "        model=MODEL,\n",
    "        temperature=0,\n",
    "        messages=[\n",
    "            {\"role\": \"system\", \"content\": processing_system_prompt},\n",
    "            {\"role\": \"user\", \"content\": query}\n",
    "        ],\n",
    "        response_format=CleanedData,\n",
    "    )\n",
    "    return completion.choices[0].message.parsed\n",
    "\n",
    "def handle_analysis_agent(query: str) -> StatisticalAnalysis:\n",
    "    completion = client.beta.chat.completions.parse(\n",
    "        model=MODEL,\n",
    "        temperature=0,\n",
    "        messages=[\n",
    "            {\"role\": \"system\", \"content\": analysis_system_prompt},\n",
    "            {\"role\": \"user\", \"content\": query}\n",
    "        ],\n",
    "        response_format=StatisticalAnalysis,\n",
    "    )\n",
    "    return completion.choices[0].message.parsed\n",
    "\n",
    "def handle_visualization_agent(query: str) -> LineChartData:\n",
    "    completion = client.beta.chat.completions.parse(\n",
    "        model=MODEL,\n",
    "        temperature=0,\n",
    "        messages=[\n",
    "            {\"role\": \"system\", \"content\": visualization_system_prompt},\n",
    "            {\"role\": \"user\", \"content\": query}\n",
    "        ],\n",
    "        response_format=LineChartData,\n",
    "    )\n",
    "    return completion.choices[0].message.parsed"
   ]
  },
  {
   "cell_type": "markdown",
   "metadata": {},
   "source": [
    "Estas funciones utilizan client.beta.chat.completions.parse(), que es parte de la funcionalidad de Structured Outputs. El parámetro response_format especifica el modelo Pydantic que queremos que la API utilice para estructurar su respuesta.\n"
   ]
  },
  {
   "cell_type": "markdown",
   "metadata": {},
   "source": [
    "### 6. Función Principal de Manejo de Mensajes\n",
    "Finalmente, definimos la función principal que maneja los mensajes del usuario:\n"
   ]
  },
  {
   "cell_type": "code",
   "execution_count": 19,
   "metadata": {},
   "outputs": [],
   "source": [
    "def handle_user_message(user_query: str):\n",
    "    completion = client.beta.chat.completions.parse(\n",
    "        model=MODEL,\n",
    "        temperature=0,\n",
    "        messages=[\n",
    "            {\"role\": \"system\", \"content\": triaging_system_prompt},\n",
    "            {\"role\": \"user\", \"content\": user_query}\n",
    "        ],\n",
    "        response_format=SendQueryToAgents,\n",
    "    )\n",
    "\n",
    "    triage_result = completion.choices[0].message.parsed\n",
    "    \n",
    "    results = {}\n",
    "    for agent in triage_result.agents:\n",
    "        if agent == \"Data Processing Agent\":\n",
    "            results['cleaned_data'] = handle_data_processing_agent(triage_result.query)\n",
    "        elif agent == \"Analysis Agent\":\n",
    "            results['analysis'] = handle_analysis_agent(triage_result.query)\n",
    "        elif agent == \"Visualization Agent\":\n",
    "            results['visualization'] = handle_visualization_agent(triage_result.query)\n",
    "\n",
    "    return results"
   ]
  },
  {
   "cell_type": "markdown",
   "metadata": {},
   "source": [
    "Esta función primero usa el agente de triaje para decidir qué agentes deben manejar la consulta del usuario, y luego llama a los agentes apropiados.\n"
   ]
  },
  {
   "cell_type": "markdown",
   "metadata": {},
   "source": [
    "### 7. Uso del Sistema\n",
    "Aquí hay un ejemplo de cómo usar el sistema:"
   ]
  },
  {
   "cell_type": "code",
   "execution_count": 20,
   "metadata": {},
   "outputs": [
    {
     "name": "stdout",
     "output_type": "stream",
     "text": [
      "Cleaned Data:\n",
      "   house_size  house_price\n",
      "0          90          100\n",
      "1          80           90\n",
      "2         100          120\n",
      "3          95          110\n",
      "\n",
      "Statistical Analysis:\n",
      "Summary: The dataset contains house sizes and their corresponding prices. After removing duplicates, the dataset has 4 unique entries. The mean house size is 91.25 m3, and the mean house price is $105. The median house size is 92.5 m3, and the median house price is $105. The standard deviation for house sizes is 7.5 m3, and for house prices, it is $15.\n",
      "Mean: 91.25\n",
      "Median: 92.5\n",
      "Standard Deviation: 7.5\n",
      "\n",
      "Creating Line Chart...\n"
     ]
    },
    {
     "data": {
      "image/png": "[encoded data removed]",
      "text/plain": [
       "<Figure size 1000x600 with 1 Axes>"
      ]
     },
     "metadata": {},
     "output_type": "display_data"
    }
   ],
   "source": [
    "user_query = \"\"\"\n",
    "Below is some data. I want you to first remove the duplicates then analyze the statistics of the data as well as plot a line chart.\n",
    "\n",
    "house_size (m3), house_price ($)\n",
    "90, 100\n",
    "80, 90\n",
    "100, 120\n",
    "90, 100\n",
    "95, 110\n",
    "\"\"\"\n",
    "\n",
    "results = handle_user_message(user_query)\n",
    "\n",
    "# Procesar y mostrar resultados\n",
    "if 'cleaned_data' in results:\n",
    "    cleaned_df = clean_data(results['cleaned_data'].data)\n",
    "    print(\"Cleaned Data:\")\n",
    "    print(cleaned_df)\n",
    "\n",
    "if 'analysis' in results:\n",
    "    print(\"\\nStatistical Analysis:\")\n",
    "    print(f\"Summary: {results['analysis'].summary}\")\n",
    "    print(f\"Mean: {results['analysis'].mean}\")\n",
    "    print(f\"Median: {results['analysis'].median}\")\n",
    "    print(f\"Standard Deviation: {results['analysis'].std_dev}\")\n",
    "\n",
    "if 'visualization' in results:\n",
    "    print(\"\\nCreating Line Chart...\")\n",
    "    create_line_chart(results['visualization'])"
   ]
  },
  {
   "cell_type": "markdown",
   "metadata": {},
   "source": [
    "Este ejemplo muestra cómo el sistema procesa una consulta del usuario, limpia los datos, realiza un análisis estadístico y crea una visualización.\n",
    "\n",
    "#### Conclusión\n",
    "Este sistema multi-agente demuestra el poder de Structured Outputs. Al definir schemas precisos con Pydantic, podemos garantizar que las respuestas del modelo se ajusten exactamente a la estructura que necesitamos, lo que facilita el procesamiento posterior y reduce la necesidad de manejar casos extremos o validar las respuestas del modelo.\n",
    "La característica de Structured Outputs nos permite crear sistemas más robustos y confiables que pueden manejar tareas complejas de manera modular y estructurada."
   ]
  }
 ],
 "metadata": {
  "kernelspec": {
   "display_name": "medium",
   "language": "python",
   "name": "python3"
  },
  "language_info": {
   "codemirror_mode": {
    "name": "ipython",
    "version": 3
   },
   "file_extension": ".py",
   "mimetype": "text/x-python",
   "name": "python",
   "nbconvert_exporter": "python",
   "pygments_lexer": "ipython3",
   "version": "3.9.19"
  }
 },
 "nbformat": 4,
 "nbformat_minor": 2
}
