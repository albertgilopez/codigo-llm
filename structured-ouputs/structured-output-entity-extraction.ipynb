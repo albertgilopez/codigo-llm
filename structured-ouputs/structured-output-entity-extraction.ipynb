{
 "cells": [
  {
   "cell_type": "code",
   "execution_count": 1,
   "metadata": {},
   "outputs": [],
   "source": [
    "\n",
    "# https://cookbook.openai.com/examples/structured_outputs_intro\n",
    "# https://cookbook.openai.com/examples/structured_outputs_multi_agent"
   ]
  },
  {
   "cell_type": "code",
   "execution_count": 2,
   "metadata": {},
   "outputs": [
    {
     "data": {
      "text/plain": [
       "True"
      ]
     },
     "execution_count": 2,
     "metadata": {},
     "output_type": "execute_result"
    }
   ],
   "source": [
    "from dotenv import load_dotenv\n",
    "load_dotenv()"
   ]
  },
  {
   "cell_type": "code",
   "execution_count": 3,
   "metadata": {},
   "outputs": [],
   "source": [
    "import json\n",
    "from openai import OpenAI\n",
    "client = OpenAI()"
   ]
  },
  {
   "cell_type": "code",
   "execution_count": 4,
   "metadata": {},
   "outputs": [],
   "source": [
    "MODEL = \"gpt-4o-2024-08-06\""
   ]
  },
  {
   "cell_type": "markdown",
   "metadata": {},
   "source": [
    "### Entity Extraction from user input\n",
    "In this example, we will use function calling to search for products that match a user's preference based on the provided input.\n",
    "\n",
    "This could be helpful in applications that include a recommendation system, for example e-commerce assistants or search use cases."
   ]
  },
  {
   "cell_type": "code",
   "execution_count": 8,
   "metadata": {},
   "outputs": [],
   "source": [
    "product_search_prompt = '''\n",
    "    You are a clothes recommendation agent, specialized in finding the perfect match for a user.\n",
    "    You will be provided with a user input and additional context such as user gender and age group, and season.\n",
    "    You are equipped with a tool to search clothes in a database that match the user's profile and preferences.\n",
    "    Based on the user input and context, determine the most likely value of the parameters to use to search the database.\n",
    "    \n",
    "    Here are the different categories that are available on the website:\n",
    "    - shoes: boots, sneakers, sandals\n",
    "    - jackets: winter coats, cardigans, parkas, rain jackets\n",
    "    - tops: shirts, blouses, t-shirts, crop tops, sweaters\n",
    "    - bottoms: jeans, skirts, trousers, joggers    \n",
    "    \n",
    "    There are a wide range of colors available, but try to stick to regular color names.\n",
    "'''\n",
    "\n",
    "product_search_function = {\n",
    "    \"type\": \"function\",\n",
    "    \"function\": {\n",
    "        \"name\": \"product_search\",\n",
    "        \"description\": \"Search for a match in the product database\",\n",
    "        \"parameters\": {\n",
    "            \"type\": \"object\",\n",
    "            \"properties\": {\n",
    "                \"category\": {\n",
    "                    \"type\": \"string\",\n",
    "                    \"description\": \"The broad category of the product\",\n",
    "                    \"enum\": [\"shoes\", \"jackets\", \"tops\", \"bottoms\"]\n",
    "                },\n",
    "                \"subcategory\": {\n",
    "                    \"type\": \"string\",\n",
    "                    \"description\": \"The sub category of the product, within the broader category\",\n",
    "                },\n",
    "                \"color\": {\n",
    "                    \"type\": \"string\",\n",
    "                    \"description\": \"The color of the product\",\n",
    "                },      \n",
    "            },\n",
    "            \"required\": [\"category\", \"subcategory\", \"color\"],\n",
    "            \"additionalProperties\": False,\n",
    "        }\n",
    "    },\n",
    "    \"strict\": True\n",
    "}\n",
    "\n",
    "def get_response(user_input, context):\n",
    "    response = client.chat.completions.create(\n",
    "        model=MODEL,\n",
    "        temperature=0,\n",
    "        messages=[\n",
    "            {\n",
    "                \"role\": \"system\",\n",
    "                \"content\": product_search_prompt\n",
    "            },\n",
    "            {\n",
    "                \"role\": \"user\",\n",
    "                \"content\": f\"CONTEXT: {context}\\n USER INPUT: {user_input}\"\n",
    "            }\n",
    "        ],\n",
    "        tools=[product_search_function]\n",
    "    )\n",
    "\n",
    "    return response.choices[0].message.tool_calls"
   ]
  },
  {
   "cell_type": "code",
   "execution_count": 9,
   "metadata": {},
   "outputs": [],
   "source": [
    "example_inputs = [\n",
    "    {\n",
    "        \"user_input\": \"I'm looking for a new coat. I'm always cold so please something warm! Ideally something that matches my eyes.\",\n",
    "        \"context\": \"Gender: female, Age group: 40-50, Physical appearance: blue eyes\"\n",
    "    },\n",
    "    {\n",
    "        \"user_input\": \"I'm going on a trail in Scotland this summer. It's goind to be rainy. Help me find something.\",\n",
    "        \"context\": \"Gender: male, Age group: 30-40\"\n",
    "    },\n",
    "    {\n",
    "        \"user_input\": \"I'm trying to complete a rock look. I'm missing shoes. Any suggestions?\",\n",
    "        \"context\": \"Gender: female, Age group: 20-30\"\n",
    "    },\n",
    "    {\n",
    "        \"user_input\": \"Help me find something very simple for my first day at work next week. Something casual and neutral.\",\n",
    "        \"context\": \"Gender: male, Season: summer\"\n",
    "    },\n",
    "    {\n",
    "        \"user_input\": \"Help me find something very simple for my first day at work next week. Something casual and neutral.\",\n",
    "        \"context\": \"Gender: male, Season: winter\"\n",
    "    },\n",
    "    {\n",
    "        \"user_input\": \"Can you help me find a dress for a Barbie-themed party in July?\",\n",
    "        \"context\": \"Gender: female, Age group: 20-30\"\n",
    "    }\n",
    "]"
   ]
  },
  {
   "cell_type": "code",
   "execution_count": 10,
   "metadata": {},
   "outputs": [],
   "source": [
    "def print_tool_call(user_input, context, tool_call):\n",
    "    args = tool_call[0].function.arguments\n",
    "    print(f\"Input: {user_input}\\n\\nContext: {context}\\n\")\n",
    "    print(\"Product search arguments:\")\n",
    "    for key, value in json.loads(args).items():\n",
    "        print(f\"{key}: '{value}'\")\n",
    "    print(\"\\n\\n\")"
   ]
  },
  {
   "cell_type": "code",
   "execution_count": 11,
   "metadata": {},
   "outputs": [],
   "source": [
    "for ex in example_inputs:\n",
    "    ex['result'] = get_response(ex['user_input'], ex['context'])"
   ]
  },
  {
   "cell_type": "code",
   "execution_count": 12,
   "metadata": {},
   "outputs": [
    {
     "name": "stdout",
     "output_type": "stream",
     "text": [
      "Input: I'm looking for a new coat. I'm always cold so please something warm! Ideally something that matches my eyes.\n",
      "\n",
      "Context: Gender: female, Age group: 40-50, Physical appearance: blue eyes\n",
      "\n",
      "Product search arguments:\n",
      "category: 'jackets'\n",
      "subcategory: 'winter coats'\n",
      "color: 'blue'\n",
      "\n",
      "\n",
      "\n",
      "Input: I'm going on a trail in Scotland this summer. It's goind to be rainy. Help me find something.\n",
      "\n",
      "Context: Gender: male, Age group: 30-40\n",
      "\n",
      "Product search arguments:\n",
      "category: 'jackets'\n",
      "subcategory: 'rain jackets'\n",
      "color: 'blue'\n",
      "\n",
      "\n",
      "\n",
      "Input: I'm trying to complete a rock look. I'm missing shoes. Any suggestions?\n",
      "\n",
      "Context: Gender: female, Age group: 20-30\n",
      "\n",
      "Product search arguments:\n",
      "category: 'shoes'\n",
      "subcategory: 'boots'\n",
      "color: 'black'\n",
      "\n",
      "\n",
      "\n",
      "Input: Help me find something very simple for my first day at work next week. Something casual and neutral.\n",
      "\n",
      "Context: Gender: male, Season: summer\n",
      "\n",
      "Product search arguments:\n",
      "category: 'tops'\n",
      "subcategory: 't-shirts'\n",
      "color: 'neutral'\n",
      "\n",
      "\n",
      "\n",
      "Input: Help me find something very simple for my first day at work next week. Something casual and neutral.\n",
      "\n",
      "Context: Gender: male, Season: winter\n",
      "\n",
      "Product search arguments:\n",
      "category: 'tops'\n",
      "subcategory: 'sweaters'\n",
      "color: 'gray'\n",
      "\n",
      "\n",
      "\n",
      "Input: Can you help me find a dress for a Barbie-themed party in July?\n",
      "\n",
      "Context: Gender: female, Age group: 20-30\n",
      "\n",
      "Product search arguments:\n",
      "category: 'tops'\n",
      "subcategory: 'crop tops'\n",
      "color: 'pink'\n",
      "\n",
      "\n",
      "\n"
     ]
    }
   ],
   "source": [
    "for ex in example_inputs:\n",
    "    print_tool_call(ex['user_input'], ex['context'], ex['result'])"
   ]
  }
 ],
 "metadata": {
  "kernelspec": {
   "display_name": "medium",
   "language": "python",
   "name": "python3"
  },
  "language_info": {
   "codemirror_mode": {
    "name": "ipython",
    "version": 3
   },
   "file_extension": ".py",
   "mimetype": "text/x-python",
   "name": "python",
   "nbconvert_exporter": "python",
   "pygments_lexer": "ipython3",
   "version": "3.9.19"
  }
 },
 "nbformat": 4,
 "nbformat_minor": 2
}
