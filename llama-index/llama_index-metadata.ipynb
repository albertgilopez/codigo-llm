{
 "cells": [
  {
   "cell_type": "markdown",
   "metadata": {},
   "source": [
    "# Metadata, ¿cómo se personaliza un objeto Document en LlamaIndex?\n",
    "\n",
    "https://docs.llamaindex.ai/en/stable/module_guides/loading/documents_and_nodes/usage_documents/"
   ]
  },
  {
   "cell_type": "markdown",
   "metadata": {},
   "source": [
    "Ahora vamos a ver diferentes maneras de personalizar un objeto Document. La clase Document es una subclase de TextNode que hereda de BaseNode, que en última instancia es una clase subclase de BaseModel la cual depende Pydantic, la librería de validación de datos más utilizada en Python.\n",
    "\n",
    "## 1. Incluir Metadata en un objeto Document de LlamaIndex\n",
    "\n",
    "Los documentos ofrecen la posibilidad de incluir metadata útill. Utilizando el diccionario de metadatos de cada Document, se puede incluir información adicional que será de gran utilidad cuando preguntemos al modelo LLM.\n",
    "\n",
    "Se puede incluir cualquier cosa, como nombres de archivos o categorías. Si estás trabajando con bases de datos vectorizadas o vector database tienes que tener en cuenta que algunas de ellos requieren claves que sean strings, y los valores deben ser planos (es decir, str, float o int).\n",
    "\n",
    "Recuerda que la información que incorpores en los metadatos se hereda. Es decir, que también aparecerá en los nodos creados a partir de ese documento. Lo bueno es que toda esa información que se incluye en los nodos permitirá al índice la utilice en las consultas y las repuestas. Por defecto, será la información que se incluya cuando se hagan los embeddings y las llamadas al modelo LLM.\n",
    "\n",
    "Puedes incluir mdetadats en un objeto Document de la siguiente manera:\n",
    "\n",
    "1. En la construcción del documento, de esta manera:"
   ]
  },
  {
   "cell_type": "code",
   "execution_count": 2,
   "metadata": {},
   "outputs": [
    {
     "data": {
      "text/plain": [
       "Document(id_='5e83e20c-6bfe-4d3e-b99b-5e19b7622a24', embedding=None, metadata={'filename': '<doc_file_name>', 'category': '<category>'}, excluded_embed_metadata_keys=[], excluded_llm_metadata_keys=[], relationships={}, text='text', start_char_idx=None, end_char_idx=None, text_template='{metadata_str}\\n\\n{content}', metadata_template='{key}: {value}', metadata_seperator='\\n')"
      ]
     },
     "execution_count": 2,
     "metadata": {},
     "output_type": "execute_result"
    }
   ],
   "source": [
    "from llama_index.core import Document\n",
    "\n",
    "document = Document(\n",
    "    text=\"text\",\n",
    "    metadata={\"filename\": \"<doc_file_name>\", \"category\": \"<category>\"},\n",
    ")\n",
    "\n",
    "document"
   ]
  },
  {
   "cell_type": "markdown",
   "metadata": {},
   "source": [
    "2. Una vez el documento se haya creado:"
   ]
  },
  {
   "cell_type": "code",
   "execution_count": 3,
   "metadata": {},
   "outputs": [
    {
     "data": {
      "text/plain": [
       "Document(id_='5e83e20c-6bfe-4d3e-b99b-5e19b7622a24', embedding=None, metadata={'tag': '<tag>'}, excluded_embed_metadata_keys=[], excluded_llm_metadata_keys=[], relationships={}, text='text', start_char_idx=None, end_char_idx=None, text_template='{metadata_str}\\n\\n{content}', metadata_template='{key}: {value}', metadata_seperator='\\n')"
      ]
     },
     "execution_count": 3,
     "metadata": {},
     "output_type": "execute_result"
    }
   ],
   "source": [
    "document.metadata = {\"tag\": \"<tag>\"}\n",
    "document"
   ]
  },
  {
   "cell_type": "markdown",
   "metadata": {},
   "source": [
    "## 2. Personalizando el ID de un objeto Document de LlamaIndex\n",
    "\n",
    "Como se menciona en un apartado posterior (Document Management), doc_id se utiliza para permitir la actualización de los documentos en el índice. Al utilizar SimpleDirectoryReader, se puede configurar automáticamente el documento doc_id para que sea la ruta completa a cada documento:"
   ]
  },
  {
   "cell_type": "code",
   "execution_count": 5,
   "metadata": {},
   "outputs": [
    {
     "name": "stdout",
     "output_type": "stream",
     "text": [
      "['c:\\\\Users\\\\Usuario\\\\Downloads\\\\codigo-llm\\\\public\\\\llama-index\\\\data\\\\Bilingual_disadvantages_are_systematically_compensated_by_bilingual_advantages_across_tasks_and_populations.pdf_part_0', 'c:\\\\Users\\\\Usuario\\\\Downloads\\\\codigo-llm\\\\public\\\\llama-index\\\\data\\\\Bilingual_disadvantages_are_systematically_compensated_by_bilingual_advantages_across_tasks_and_populations.pdf_part_1', 'c:\\\\Users\\\\Usuario\\\\Downloads\\\\codigo-llm\\\\public\\\\llama-index\\\\data\\\\Bilingual_disadvantages_are_systematically_compensated_by_bilingual_advantages_across_tasks_and_populations.pdf_part_2', 'c:\\\\Users\\\\Usuario\\\\Downloads\\\\codigo-llm\\\\public\\\\llama-index\\\\data\\\\Bilingual_disadvantages_are_systematically_compensated_by_bilingual_advantages_across_tasks_and_populations.pdf_part_3', 'c:\\\\Users\\\\Usuario\\\\Downloads\\\\codigo-llm\\\\public\\\\llama-index\\\\data\\\\Bilingual_disadvantages_are_systematically_compensated_by_bilingual_advantages_across_tasks_and_populations.pdf_part_4', 'c:\\\\Users\\\\Usuario\\\\Downloads\\\\codigo-llm\\\\public\\\\llama-index\\\\data\\\\Bilingual_disadvantages_are_systematically_compensated_by_bilingual_advantages_across_tasks_and_populations.pdf_part_5', 'c:\\\\Users\\\\Usuario\\\\Downloads\\\\codigo-llm\\\\public\\\\llama-index\\\\data\\\\Bilingual_disadvantages_are_systematically_compensated_by_bilingual_advantages_across_tasks_and_populations.pdf_part_6', 'c:\\\\Users\\\\Usuario\\\\Downloads\\\\codigo-llm\\\\public\\\\llama-index\\\\data\\\\Bilingual_disadvantages_are_systematically_compensated_by_bilingual_advantages_across_tasks_and_populations.pdf_part_7', 'c:\\\\Users\\\\Usuario\\\\Downloads\\\\codigo-llm\\\\public\\\\llama-index\\\\data\\\\Bilingual_disadvantages_are_systematically_compensated_by_bilingual_advantages_across_tasks_and_populations.pdf_part_8', 'c:\\\\Users\\\\Usuario\\\\Downloads\\\\codigo-llm\\\\public\\\\llama-index\\\\data\\\\Bilingual_disadvantages_are_systematically_compensated_by_bilingual_advantages_across_tasks_and_populations.pdf_part_9', 'c:\\\\Users\\\\Usuario\\\\Downloads\\\\codigo-llm\\\\public\\\\llama-index\\\\data\\\\Bilingual_disadvantages_are_systematically_compensated_by_bilingual_advantages_across_tasks_and_populations.pdf_part_10', 'c:\\\\Users\\\\Usuario\\\\Downloads\\\\codigo-llm\\\\public\\\\llama-index\\\\data\\\\Bilingual_disadvantages_are_systematically_compensated_by_bilingual_advantages_across_tasks_and_populations.pdf_part_11', 'c:\\\\Users\\\\Usuario\\\\Downloads\\\\codigo-llm\\\\public\\\\llama-index\\\\data\\\\Bilingual_disadvantages_are_systematically_compensated_by_bilingual_advantages_across_tasks_and_populations.pdf_part_12', 'c:\\\\Users\\\\Usuario\\\\Downloads\\\\codigo-llm\\\\public\\\\llama-index\\\\data\\\\Bilingual_disadvantages_are_systematically_compensated_by_bilingual_advantages_across_tasks_and_populations.pdf_part_13', 'c:\\\\Users\\\\Usuario\\\\Downloads\\\\codigo-llm\\\\public\\\\llama-index\\\\data\\\\Bilingual_disadvantages_are_systematically_compensated_by_bilingual_advantages_across_tasks_and_populations.pdf_part_14', 'c:\\\\Users\\\\Usuario\\\\Downloads\\\\codigo-llm\\\\public\\\\llama-index\\\\data\\\\Bilingual_disadvantages_are_systematically_compensated_by_bilingual_advantages_across_tasks_and_populations.pdf_part_15', 'c:\\\\Users\\\\Usuario\\\\Downloads\\\\codigo-llm\\\\public\\\\llama-index\\\\data\\\\Bilingual_disadvantages_are_systematically_compensated_by_bilingual_advantages_across_tasks_and_populations.pdf_part_16', 'c:\\\\Users\\\\Usuario\\\\Downloads\\\\codigo-llm\\\\public\\\\llama-index\\\\data\\\\Bilingual_disadvantages_are_systematically_compensated_by_bilingual_advantages_across_tasks_and_populations.pdf_part_17', 'c:\\\\Users\\\\Usuario\\\\Downloads\\\\codigo-llm\\\\public\\\\llama-index\\\\data\\\\Immigration_labor_markets_and_discrimination_Evidence_from_the_Venezuelan_Exodus_in_Peru.pdf_part_0', 'c:\\\\Users\\\\Usuario\\\\Downloads\\\\codigo-llm\\\\public\\\\llama-index\\\\data\\\\Immigration_labor_markets_and_discrimination_Evidence_from_the_Venezuelan_Exodus_in_Peru.pdf_part_1', 'c:\\\\Users\\\\Usuario\\\\Downloads\\\\codigo-llm\\\\public\\\\llama-index\\\\data\\\\Immigration_labor_markets_and_discrimination_Evidence_from_the_Venezuelan_Exodus_in_Peru.pdf_part_2', 'c:\\\\Users\\\\Usuario\\\\Downloads\\\\codigo-llm\\\\public\\\\llama-index\\\\data\\\\Immigration_labor_markets_and_discrimination_Evidence_from_the_Venezuelan_Exodus_in_Peru.pdf_part_3', 'c:\\\\Users\\\\Usuario\\\\Downloads\\\\codigo-llm\\\\public\\\\llama-index\\\\data\\\\Immigration_labor_markets_and_discrimination_Evidence_from_the_Venezuelan_Exodus_in_Peru.pdf_part_4', 'c:\\\\Users\\\\Usuario\\\\Downloads\\\\codigo-llm\\\\public\\\\llama-index\\\\data\\\\Immigration_labor_markets_and_discrimination_Evidence_from_the_Venezuelan_Exodus_in_Peru.pdf_part_5', 'c:\\\\Users\\\\Usuario\\\\Downloads\\\\codigo-llm\\\\public\\\\llama-index\\\\data\\\\Immigration_labor_markets_and_discrimination_Evidence_from_the_Venezuelan_Exodus_in_Peru.pdf_part_6', 'c:\\\\Users\\\\Usuario\\\\Downloads\\\\codigo-llm\\\\public\\\\llama-index\\\\data\\\\Immigration_labor_markets_and_discrimination_Evidence_from_the_Venezuelan_Exodus_in_Peru.pdf_part_7', 'c:\\\\Users\\\\Usuario\\\\Downloads\\\\codigo-llm\\\\public\\\\llama-index\\\\data\\\\Immigration_labor_markets_and_discrimination_Evidence_from_the_Venezuelan_Exodus_in_Peru.pdf_part_8', 'c:\\\\Users\\\\Usuario\\\\Downloads\\\\codigo-llm\\\\public\\\\llama-index\\\\data\\\\Immigration_labor_markets_and_discrimination_Evidence_from_the_Venezuelan_Exodus_in_Peru.pdf_part_9', 'c:\\\\Users\\\\Usuario\\\\Downloads\\\\codigo-llm\\\\public\\\\llama-index\\\\data\\\\Immigration_labor_markets_and_discrimination_Evidence_from_the_Venezuelan_Exodus_in_Peru.pdf_part_10', 'c:\\\\Users\\\\Usuario\\\\Downloads\\\\codigo-llm\\\\public\\\\llama-index\\\\data\\\\Immigration_labor_markets_and_discrimination_Evidence_from_the_Venezuelan_Exodus_in_Peru.pdf_part_11', 'c:\\\\Users\\\\Usuario\\\\Downloads\\\\codigo-llm\\\\public\\\\llama-index\\\\data\\\\Immigration_labor_markets_and_discrimination_Evidence_from_the_Venezuelan_Exodus_in_Peru.pdf_part_12', 'c:\\\\Users\\\\Usuario\\\\Downloads\\\\codigo-llm\\\\public\\\\llama-index\\\\data\\\\Immigration_labor_markets_and_discrimination_Evidence_from_the_Venezuelan_Exodus_in_Peru.pdf_part_13', 'c:\\\\Users\\\\Usuario\\\\Downloads\\\\codigo-llm\\\\public\\\\llama-index\\\\data\\\\Immigration_labor_markets_and_discrimination_Evidence_from_the_Venezuelan_Exodus_in_Peru.pdf_part_14', 'c:\\\\Users\\\\Usuario\\\\Downloads\\\\codigo-llm\\\\public\\\\llama-index\\\\data\\\\Immigration_labor_markets_and_discrimination_Evidence_from_the_Venezuelan_Exodus_in_Peru.pdf_part_15', 'c:\\\\Users\\\\Usuario\\\\Downloads\\\\codigo-llm\\\\public\\\\llama-index\\\\data\\\\The_effect_of_slime_accumulated_in_a_long_term_operating_UASB_using_crude_glycerol_to_treat_S_rich_wastewater.pdf_part_0', 'c:\\\\Users\\\\Usuario\\\\Downloads\\\\codigo-llm\\\\public\\\\llama-index\\\\data\\\\The_effect_of_slime_accumulated_in_a_long_term_operating_UASB_using_crude_glycerol_to_treat_S_rich_wastewater.pdf_part_1', 'c:\\\\Users\\\\Usuario\\\\Downloads\\\\codigo-llm\\\\public\\\\llama-index\\\\data\\\\The_effect_of_slime_accumulated_in_a_long_term_operating_UASB_using_crude_glycerol_to_treat_S_rich_wastewater.pdf_part_2', 'c:\\\\Users\\\\Usuario\\\\Downloads\\\\codigo-llm\\\\public\\\\llama-index\\\\data\\\\The_effect_of_slime_accumulated_in_a_long_term_operating_UASB_using_crude_glycerol_to_treat_S_rich_wastewater.pdf_part_3', 'c:\\\\Users\\\\Usuario\\\\Downloads\\\\codigo-llm\\\\public\\\\llama-index\\\\data\\\\The_effect_of_slime_accumulated_in_a_long_term_operating_UASB_using_crude_glycerol_to_treat_S_rich_wastewater.pdf_part_4', 'c:\\\\Users\\\\Usuario\\\\Downloads\\\\codigo-llm\\\\public\\\\llama-index\\\\data\\\\The_effect_of_slime_accumulated_in_a_long_term_operating_UASB_using_crude_glycerol_to_treat_S_rich_wastewater.pdf_part_5', 'c:\\\\Users\\\\Usuario\\\\Downloads\\\\codigo-llm\\\\public\\\\llama-index\\\\data\\\\The_effect_of_slime_accumulated_in_a_long_term_operating_UASB_using_crude_glycerol_to_treat_S_rich_wastewater.pdf_part_6', 'c:\\\\Users\\\\Usuario\\\\Downloads\\\\codigo-llm\\\\public\\\\llama-index\\\\data\\\\The_effect_of_slime_accumulated_in_a_long_term_operating_UASB_using_crude_glycerol_to_treat_S_rich_wastewater.pdf_part_7', 'c:\\\\Users\\\\Usuario\\\\Downloads\\\\codigo-llm\\\\public\\\\llama-index\\\\data\\\\The_effect_of_slime_accumulated_in_a_long_term_operating_UASB_using_crude_glycerol_to_treat_S_rich_wastewater.pdf_part_8', 'c:\\\\Users\\\\Usuario\\\\Downloads\\\\codigo-llm\\\\public\\\\llama-index\\\\data\\\\The_effect_of_slime_accumulated_in_a_long_term_operating_UASB_using_crude_glycerol_to_treat_S_rich_wastewater.pdf_part_9', 'c:\\\\Users\\\\Usuario\\\\Downloads\\\\codigo-llm\\\\public\\\\llama-index\\\\data\\\\The_effect_of_slime_accumulated_in_a_long_term_operating_UASB_using_crude_glycerol_to_treat_S_rich_wastewater.pdf_part_10', 'c:\\\\Users\\\\Usuario\\\\Downloads\\\\codigo-llm\\\\public\\\\llama-index\\\\data\\\\The_effect_of_slime_accumulated_in_a_long_term_operating_UASB_using_crude_glycerol_to_treat_S_rich_wastewater.pdf_part_11', 'c:\\\\Users\\\\Usuario\\\\Downloads\\\\codigo-llm\\\\public\\\\llama-index\\\\data\\\\The_effect_of_slime_accumulated_in_a_long_term_operating_UASB_using_crude_glycerol_to_treat_S_rich_wastewater.pdf_part_12', 'c:\\\\Users\\\\Usuario\\\\Downloads\\\\codigo-llm\\\\public\\\\llama-index\\\\data\\\\The_effect_of_slime_accumulated_in_a_long_term_operating_UASB_using_crude_glycerol_to_treat_S_rich_wastewater.pdf_part_13']\n"
     ]
    }
   ],
   "source": [
    "from llama_index.core import SimpleDirectoryReader\n",
    "\n",
    "documents = SimpleDirectoryReader(\"./data\", filename_as_id=True).load_data()\n",
    "print([x.doc_id for x in documents])"
   ]
  },
  {
   "cell_type": "markdown",
   "metadata": {},
   "source": [
    "Lee estos artículos relacionados:\n",
    "\n",
    "- SimpleDirectoryReader. ¿Cómo cargar datos de archivos locales con LlamaIndex?\n",
    "https://www.codigollm.es/simpledirectoryreader-como-cargar-datos-de-archivos-locales-con-llamaindex/"
   ]
  },
  {
   "cell_type": "markdown",
   "metadata": {},
   "source": [
    "## AVANZADO - Personalización de Metadata en Documents"
   ]
  },
  {
   "cell_type": "markdown",
   "metadata": {},
   "source": [
    "Un detalle clave a tener en cuenta es que, por defecto, cualquier metadato que añadas se incluirá en el proceso de generación de embeddings y en las llamadas al LLM.\n",
    "\n",
    "**¿Cómo personalizar el texto de los metadatos al que accederá un modelo LLM?**\n",
    "\n",
    "Por defecto, un Document puede tener muchas clave-valor, pero es posible que no te interese que todas sean visibles para el LLM cuando vaya a generar la respuesta. Por ejemplo, es posible que NO nos interese que el LLM lea el nombre del archivo de nuestros documentos, pero SI que nos interese incluirlo cuando vayamos a generar los embeddings ya que eso nos ayudará a mejorar la recuperación de los datos sin cambiar la información que vaya a consultar el LLM.\n",
    "\n",
    "Utilizando la fuente de datos de Tesla que introducíamos en este artículo, y una vez cargada la información utilizando SimpleDirectoryReader, podemos hacerlo accediendo a:"
   ]
  },
  {
   "cell_type": "code",
   "execution_count": 7,
   "metadata": {},
   "outputs": [],
   "source": [
    "from llama_index.core import SimpleDirectoryReader\n",
    "\n",
    "reader = SimpleDirectoryReader(input_files=[\"data/TSLA-Q1-2024-Update.pdf\"])\n",
    "\n",
    "documents = reader.load_data()"
   ]
  },
  {
   "cell_type": "code",
   "execution_count": 8,
   "metadata": {},
   "outputs": [],
   "source": [
    "document.excluded_llm_metadata_keys = [\"file_name\"]"
   ]
  },
  {
   "cell_type": "code",
   "execution_count": 9,
   "metadata": {},
   "outputs": [
    {
     "name": "stdout",
     "output_type": "stream",
     "text": [
      "tag: <tag>\n",
      "\n",
      "text\n"
     ]
    }
   ],
   "source": [
    "from llama_index.core.schema import MetadataMode\n",
    "\n",
    "print(document.get_content(metadata_mode=MetadataMode.LLM))"
   ]
  },
  {
   "cell_type": "markdown",
   "metadata": {},
   "source": [
    "**¿Cómo personalizar el formato de los metadatos de un Document?**\n",
    "\n",
    "Como decíamos, los metdatos se incluyen en el texto real de cada Document / Node cuando se envía a un LLM para generar una respuesta o en el proceso de generación de embeddings.\n",
    "\n",
    "Por defecto, el formato de estos metadatos está controlado por tres atributos:\n",
    "\n",
    "1. **document.metadata_seperator**, por defecto -> '\\n'. Los campos clave-valor de los metadatos se concatenan, este campo controla el separador entre cada par clave-valor.\n",
    "\n",
    "2. **document.metadata_template**, por defecto -> '{key}: {value}'. Este atributo controla como se formatea cada par clave-valor en los metadatos.\n",
    "\n",
    "3. **document.text_template**, por defecto -> '{metadata_str}\\n\\n{content}'. Este atributo controla  cómo se ven los metadatos cuando se unen con el contenido de texto del documento.\n",
    "\n",
    "Vamos a ver un ejemplo, incorporando todo lo anterior:"
   ]
  },
  {
   "cell_type": "code",
   "execution_count": 10,
   "metadata": {},
   "outputs": [
    {
     "name": "stdout",
     "output_type": "stream",
     "text": [
      "Esto es lo que el LLM verá: \n",
      " Metadata: category=>FINANZAS::author=>Albert Gil López\n",
      "-----\n",
      "Content: Este es el texto de un documento personalizado\n",
      "Esto es lo que el modelo de embeddings verá: \n",
      " Metadata: file_name=><tu-archivo>.txt::category=>FINANZAS::author=>Albert Gil López\n",
      "-----\n",
      "Content: Este es el texto de un documento personalizado\n"
     ]
    }
   ],
   "source": [
    "from llama_index.core import Document\n",
    "from llama_index.core.schema import MetadataMode\n",
    "\n",
    "document = Document(\n",
    "    text=\"Este es el texto de un documento personalizado\",\n",
    "    metadata={\n",
    "        \"file_name\": \"<tu-archivo>.txt\",\n",
    "        \"category\": \"FINANZAS\",\n",
    "        \"author\": \"Albert Gil López\",\n",
    "    },\n",
    "\n",
    "    excluded_llm_metadata_keys=[\"file_name\"],\n",
    "    metadata_seperator=\"::\",\n",
    "    metadata_template=\"{key}=>{value}\",\n",
    "    text_template=\"Metadata: {metadata_str}\\n-----\\nContent: {content}\",\n",
    ")\n",
    "\n",
    "print(\n",
    "    \"Esto es lo que el LLM verá: \\n\",\n",
    "    document.get_content(metadata_mode=MetadataMode.LLM),\n",
    ")\n",
    "print(\n",
    "    \"Esto es lo que el modelo de embeddings verá: \\n\",\n",
    "    document.get_content(metadata_mode=MetadataMode.EMBED),\n",
    ")"
   ]
  }
 ],
 "metadata": {
  "kernelspec": {
   "display_name": "medium",
   "language": "python",
   "name": "python3"
  },
  "language_info": {
   "codemirror_mode": {
    "name": "ipython",
    "version": 3
   },
   "file_extension": ".py",
   "mimetype": "text/x-python",
   "name": "python",
   "nbconvert_exporter": "python",
   "pygments_lexer": "ipython3",
   "version": "3.11.9"
  }
 },
 "nbformat": 4,
 "nbformat_minor": 2
}
